{
 "cells": [
  {
   "cell_type": "markdown",
   "metadata": {},
   "source": [
    "Although this analysis is only for the 50 states of United states, it can be a starting point for doing the same analysis for all the counties. Based on this analysis, I aim to find out the reasons for a high amount of transpotation for work and find remedies to decrease it. "
   ]
  },
  {
   "cell_type": "code",
   "execution_count": 15,
   "metadata": {},
   "outputs": [],
   "source": [
    "import pandas as pd\n",
    "from sklearn.linear_model import Ridge, Lasso, LassoCV, RidgeCV\n",
    "from sklearn.metrics import mean_squared_error\n",
    "from sklearn.model_selection import train_test_split\n",
    "import warnings\n",
    "warnings.filterwarnings(\"ignore\")"
   ]
  },
  {
   "cell_type": "code",
   "execution_count": 16,
   "metadata": {},
   "outputs": [],
   "source": [
    "data = pd.read_csv('data.csv')"
   ]
  },
  {
   "cell_type": "code",
   "execution_count": 17,
   "metadata": {},
   "outputs": [],
   "source": [
    "data = data.fillna(0)\n",
    "train_1, test_1 = train_test_split(data, test_size=0.2)\n",
    "y_train = train_1.num_away\n",
    "x_train = train_1[['surf_ar','pop_dens','young','minorities','num_stns','no_or_1_vehicle','public_transp','semi-pub_transp']]\n",
    "y_test = test_1.num_away\n",
    "x_test = test_1[['surf_ar','pop_dens','young','minorities','num_stns','no_or_1_vehicle','public_transp','semi-pub_transp']]"
   ]
  },
  {
   "cell_type": "code",
   "execution_count": 18,
   "metadata": {},
   "outputs": [
    {
     "name": "stdout",
     "output_type": "stream",
     "text": [
      "0.0039906558167034385\n",
      "[-2.53151174e-08  3.78069793e-05  0.00000000e+00 -3.03977371e-10\n",
      " -0.00000000e+00  1.47193215e-03  4.48232954e-01 -0.00000000e+00]\n"
     ]
    }
   ],
   "source": [
    "reg = LassoCV(cv=10, random_state=0,normalize=True).fit(x_train, y_train)\n",
    "reg.score(x_train, y_train)\n",
    "pred = reg.predict(x_test)\n",
    "print(mean_squared_error(y_test, pred))\n",
    "print(reg.coef_)"
   ]
  },
  {
   "cell_type": "code",
   "execution_count": 19,
   "metadata": {},
   "outputs": [
    {
     "name": "stdout",
     "output_type": "stream",
     "text": [
      "0.002178539324846709\n",
      "[-5.15659040e-08  3.80118573e-05  2.64245135e-02 -3.25445760e-09\n",
      " -2.44824156e-04  5.46738103e-02  2.37617610e-01 -1.27877908e-01]\n"
     ]
    }
   ],
   "source": [
    "reg = RidgeCV(cv=10, normalize=True).fit(x_train, y_train)\n",
    "reg.score(x_train, y_train)\n",
    "pred = reg.predict(x_test)\n",
    "print(mean_squared_error(y_test, pred))\n",
    "print(reg.coef_)"
   ]
  },
  {
   "cell_type": "markdown",
   "metadata": {},
   "source": [
    "Since the data is highly correlated, Ridge regression seems like a better choice. However, the positive point about Lasso is variable selection. We can also see that the MSE value for Lasso and Ridge are very similar. Therefore choosing Lasso with fewer parameters seems more reasonable. Based on Lasso we can see that the selected variables to explain the number of away workers are: {surface area, minorities, number of households with no or 1 vehicles, public transportation usage}.<br>\n",
    "Next, I have considered public transportation as a response variable against the rest."
   ]
  },
  {
   "cell_type": "code",
   "execution_count": 20,
   "metadata": {},
   "outputs": [],
   "source": [
    "y_train = train_1.public_transp\n",
    "x_train = train_1[['surf_ar','pop_dens','young','minorities','num_stns','no_or_1_vehicle','num_away','semi-pub_transp']]\n",
    "y_test = test_1.public_transp\n",
    "x_test = test_1[['surf_ar','pop_dens','young','minorities','num_stns','no_or_1_vehicle','num_away','semi-pub_transp']]"
   ]
  },
  {
   "cell_type": "code",
   "execution_count": 21,
   "metadata": {},
   "outputs": [
    {
     "name": "stdout",
     "output_type": "stream",
     "text": [
      "0.0070912069659160555\n",
      "[-0.          0.          0.          0.         -0.          0.\n",
      "  0.18283336 -0.        ]\n"
     ]
    }
   ],
   "source": [
    "reg = LassoCV(cv=10, random_state=0,normalize=True).fit(x_train, y_train)\n",
    "reg.score(x_train, y_train)\n",
    "pred = reg.predict(x_test)\n",
    "print(mean_squared_error(y_test, pred))\n",
    "print(reg.coef_)"
   ]
  },
  {
   "cell_type": "code",
   "execution_count": 22,
   "metadata": {},
   "outputs": [
    {
     "name": "stdout",
     "output_type": "stream",
     "text": [
      "0.0064931146893438966\n",
      "[-6.62984683e-09  4.23157720e-06  6.85085685e-03  7.40174296e-11\n",
      " -3.95398627e-05  2.14470870e-02  6.44452494e-02 -1.61749728e-02]\n"
     ]
    }
   ],
   "source": [
    "reg = RidgeCV(cv=10, normalize=True).fit(x_train, y_train)\n",
    "reg.score(x_train, y_train)\n",
    "pred = reg.predict(x_test)\n",
    "print(mean_squared_error(y_test, pred))\n",
    "print(reg.coef_)"
   ]
  },
  {
   "cell_type": "markdown",
   "metadata": {},
   "source": [
    "Based on the Lasso results, we can see that public transpotation usage can be explained through a linear regression based on the number of away workers. However, Ridge regression also gives importance to having no or one vehicle and semi-public transportation."
   ]
  }
 ],
 "metadata": {
  "kernelspec": {
   "display_name": "Python 3",
   "language": "python",
   "name": "python3"
  },
  "language_info": {
   "codemirror_mode": {
    "name": "ipython",
    "version": 3
   },
   "file_extension": ".py",
   "mimetype": "text/x-python",
   "name": "python",
   "nbconvert_exporter": "python",
   "pygments_lexer": "ipython3",
   "version": "3.7.3"
  }
 },
 "nbformat": 4,
 "nbformat_minor": 2
}
